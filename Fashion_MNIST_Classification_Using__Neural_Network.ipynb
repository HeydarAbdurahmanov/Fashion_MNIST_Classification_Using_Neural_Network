{
  "nbformat": 4,
  "nbformat_minor": 0,
  "metadata": {
    "colab": {
      "provenance": [],
      "gpuType": "T4",
      "authorship_tag": "ABX9TyPYTisp/GZXf5bysnDqT8rU",
      "include_colab_link": true
    },
    "kernelspec": {
      "name": "python3",
      "display_name": "Python 3"
    },
    "language_info": {
      "name": "python"
    },
    "accelerator": "GPU"
  },
  "cells": [
    {
      "cell_type": "markdown",
      "metadata": {
        "id": "view-in-github",
        "colab_type": "text"
      },
      "source": [
        "<a href=\"https://colab.research.google.com/github/HeydarAbdurahmanov/Fashion_MNIST_Classification_Using_Neural_Network/blob/main/Fashion_MNIST_Classification_Using__Neural_Network.ipynb\" target=\"_parent\"><img src=\"https://colab.research.google.com/assets/colab-badge.svg\" alt=\"Open In Colab\"/></a>"
      ]
    },
    {
      "cell_type": "code",
      "execution_count": 1,
      "metadata": {
        "id": "83E4eQrAPHwr"
      },
      "outputs": [],
      "source": [
        "import numpy as np\n",
        "import matplotlib.pyplot as plt\n",
        "import tensorflow as tf\n",
        "from tensorflow import keras\n",
        "from tensorflow.keras.datasets import fashion_mnist\n"
      ]
    },
    {
      "cell_type": "code",
      "source": [
        "# Loading the dataset\n",
        "(train_images, train_labels), (test_images, test_labels) = fashion_mnist.load_data()"
      ],
      "metadata": {
        "id": "QprPps9dQJh-"
      },
      "execution_count": 2,
      "outputs": []
    },
    {
      "cell_type": "markdown",
      "source": [
        "let’s have a quick look at one of the samples of the images from the dataset:"
      ],
      "metadata": {
        "id": "spRlbGS_T57J"
      }
    },
    {
      "cell_type": "code",
      "source": [
        "imgIndex = 9\n",
        "image = train_images[imgIndex]\n",
        "print(\"Image Label :\",train_labels[imgIndex])\n",
        "plt.imshow(image)"
      ],
      "metadata": {
        "colab": {
          "base_uri": "https://localhost:8080/",
          "height": 467
        },
        "id": "xn0T0FvOToYf",
        "outputId": "6735baa9-4002-420e-b897-eb7956351ab3"
      },
      "execution_count": 3,
      "outputs": [
        {
          "output_type": "stream",
          "name": "stdout",
          "text": [
            "Image Label : 5\n"
          ]
        },
        {
          "output_type": "execute_result",
          "data": {
            "text/plain": [
              "<matplotlib.image.AxesImage at 0x7a9ad5e30700>"
            ]
          },
          "metadata": {},
          "execution_count": 3
        },
        {
          "output_type": "display_data",
          "data": {
            "text/plain": [
              "<Figure size 640x480 with 1 Axes>"
            ],
            "image/png": "[encoded data removed]"
          },
          "metadata": {}
        }
      ]
    },
    {
      "cell_type": "markdown",
      "source": [
        "Looking at the shape of both the training and test data:"
      ],
      "metadata": {
        "id": "rjGDwbc1UCXL"
      }
    },
    {
      "cell_type": "code",
      "source": [
        "print(train_images.shape)\n",
        "print(test_images.shape)"
      ],
      "metadata": {
        "colab": {
          "base_uri": "https://localhost:8080/"
        },
        "id": "n9w0iu0_UGBJ",
        "outputId": "3cf6612d-ec94-4cf7-9e34-18404a97bd7b"
      },
      "execution_count": 4,
      "outputs": [
        {
          "output_type": "stream",
          "name": "stdout",
          "text": [
            "(60000, 28, 28)\n",
            "(10000, 28, 28)\n"
          ]
        }
      ]
    },
    {
      "cell_type": "markdown",
      "source": [
        "Building a neural network architecture with two hidden layers:"
      ],
      "metadata": {
        "id": "PLQeldTYQcD9"
      }
    },
    {
      "cell_type": "code",
      "source": [
        "model = keras.models.Sequential([\n",
        "    keras.layers.Flatten(input_shape=[28, 28]),\n",
        "    keras.layers.Dense(300, activation=\"relu\"),\n",
        "    keras.layers.Dense(100, activation=\"relu\"),\n",
        "    keras.layers.Dense(10, activation=\"softmax\")\n",
        "])\n",
        "\n",
        "model.summary()\n"
      ],
      "metadata": {
        "colab": {
          "base_uri": "https://localhost:8080/"
        },
        "id": "9OwfHqjESHIW",
        "outputId": "5f54d140-7ff6-43a4-8e74-2521e613a746"
      },
      "execution_count": 5,
      "outputs": [
        {
          "output_type": "stream",
          "name": "stdout",
          "text": [
            "Model: \"sequential\"\n",
            "_________________________________________________________________\n",
            " Layer (type)                Output Shape              Param #   \n",
            "=================================================================\n",
            " flatten (Flatten)           (None, 784)               0         \n",
            "                                                                 \n",
            " dense (Dense)               (None, 300)               235500    \n",
            "                                                                 \n",
            " dense_1 (Dense)             (None, 100)               30100     \n",
            "                                                                 \n",
            " dense_2 (Dense)             (None, 10)                1010      \n",
            "                                                                 \n",
            "=================================================================\n",
            "Total params: 266,610\n",
            "Trainable params: 266,610\n",
            "Non-trainable params: 0\n",
            "_________________________________________________________________\n"
          ]
        }
      ]
    },
    {
      "cell_type": "markdown",
      "source": [
        "Before training the model,splitting the training data into training and validation sets:"
      ],
      "metadata": {
        "id": "0ZlX9i71VJct"
      }
    },
    {
      "cell_type": "code",
      "source": [
        "xvalid, xtrain = train_images[:5000]/255.0, train_images[5000:]/255.0\n",
        "yvalid, ytrain = train_labels[:5000], train_labels[5000:]"
      ],
      "metadata": {
        "id": "v9NPCcz7VxLm"
      },
      "execution_count": 6,
      "outputs": []
    },
    {
      "cell_type": "markdown",
      "source": [
        " Training a neural network for the task of image classification:"
      ],
      "metadata": {
        "id": "LCkEkCYKW3Vf"
      }
    },
    {
      "cell_type": "code",
      "source": [
        "model.compile(optimizer='adam', loss='sparse_categorical_crossentropy', metrics=['accuracy'])\n",
        "\n",
        "history = model.fit(xtrain, ytrain, epochs=30,\n",
        "                    validation_data=(xvalid, yvalid))"
      ],
      "metadata": {
        "colab": {
          "base_uri": "https://localhost:8080/"
        },
        "id": "8mhDDD8wU-N-",
        "outputId": "7a95a06c-39b5-4083-e9bb-fbd411583358"
      },
      "execution_count": 7,
      "outputs": [
        {
          "output_type": "stream",
          "name": "stdout",
          "text": [
            "Epoch 1/30\n",
            "1719/1719 [==============================] - 15s 7ms/step - loss: 0.4854 - accuracy: 0.8267 - val_loss: 0.4242 - val_accuracy: 0.8430\n",
            "Epoch 2/30\n",
            "1719/1719 [==============================] - 6s 4ms/step - loss: 0.3667 - accuracy: 0.8650 - val_loss: 0.3427 - val_accuracy: 0.8736\n",
            "Epoch 3/30\n",
            "1719/1719 [==============================] - 6s 4ms/step - loss: 0.3282 - accuracy: 0.8805 - val_loss: 0.3276 - val_accuracy: 0.8800\n",
            "Epoch 4/30\n",
            "1719/1719 [==============================] - 5s 3ms/step - loss: 0.3073 - accuracy: 0.8861 - val_loss: 0.3061 - val_accuracy: 0.8898\n",
            "Epoch 5/30\n",
            "1719/1719 [==============================] - 6s 4ms/step - loss: 0.2866 - accuracy: 0.8934 - val_loss: 0.3142 - val_accuracy: 0.8834\n",
            "Epoch 6/30\n",
            "1719/1719 [==============================] - 6s 3ms/step - loss: 0.2729 - accuracy: 0.8984 - val_loss: 0.3048 - val_accuracy: 0.8902\n",
            "Epoch 7/30\n",
            "1719/1719 [==============================] - 6s 4ms/step - loss: 0.2603 - accuracy: 0.9019 - val_loss: 0.3060 - val_accuracy: 0.8898\n",
            "Epoch 8/30\n",
            "1719/1719 [==============================] - 6s 3ms/step - loss: 0.2489 - accuracy: 0.9064 - val_loss: 0.3125 - val_accuracy: 0.8858\n",
            "Epoch 9/30\n",
            "1719/1719 [==============================] - 6s 3ms/step - loss: 0.2363 - accuracy: 0.9103 - val_loss: 0.3290 - val_accuracy: 0.8870\n",
            "Epoch 10/30\n",
            "1719/1719 [==============================] - 6s 4ms/step - loss: 0.2282 - accuracy: 0.9138 - val_loss: 0.3145 - val_accuracy: 0.8866\n",
            "Epoch 11/30\n",
            "1719/1719 [==============================] - 5s 3ms/step - loss: 0.2217 - accuracy: 0.9149 - val_loss: 0.3199 - val_accuracy: 0.8906\n",
            "Epoch 12/30\n",
            "1719/1719 [==============================] - 6s 4ms/step - loss: 0.2121 - accuracy: 0.9193 - val_loss: 0.2929 - val_accuracy: 0.8938\n",
            "Epoch 13/30\n",
            "1719/1719 [==============================] - 5s 3ms/step - loss: 0.2082 - accuracy: 0.9208 - val_loss: 0.3326 - val_accuracy: 0.8926\n",
            "Epoch 14/30\n",
            "1719/1719 [==============================] - 7s 4ms/step - loss: 0.1987 - accuracy: 0.9240 - val_loss: 0.3485 - val_accuracy: 0.8934\n",
            "Epoch 15/30\n",
            "1719/1719 [==============================] - 6s 3ms/step - loss: 0.1938 - accuracy: 0.9270 - val_loss: 0.3306 - val_accuracy: 0.8948\n",
            "Epoch 16/30\n",
            "1719/1719 [==============================] - 6s 4ms/step - loss: 0.1851 - accuracy: 0.9280 - val_loss: 0.3441 - val_accuracy: 0.8922\n",
            "Epoch 17/30\n",
            "1719/1719 [==============================] - 6s 3ms/step - loss: 0.1800 - accuracy: 0.9307 - val_loss: 0.3573 - val_accuracy: 0.8888\n",
            "Epoch 18/30\n",
            "1719/1719 [==============================] - 6s 4ms/step - loss: 0.1739 - accuracy: 0.9335 - val_loss: 0.3571 - val_accuracy: 0.8894\n",
            "Epoch 19/30\n",
            "1719/1719 [==============================] - 5s 3ms/step - loss: 0.1711 - accuracy: 0.9338 - val_loss: 0.3376 - val_accuracy: 0.8990\n",
            "Epoch 20/30\n",
            "1719/1719 [==============================] - 6s 4ms/step - loss: 0.1637 - accuracy: 0.9372 - val_loss: 0.4067 - val_accuracy: 0.8862\n",
            "Epoch 21/30\n",
            "1719/1719 [==============================] - 6s 3ms/step - loss: 0.1575 - accuracy: 0.9390 - val_loss: 0.3751 - val_accuracy: 0.8932\n",
            "Epoch 22/30\n",
            "1719/1719 [==============================] - 6s 4ms/step - loss: 0.1556 - accuracy: 0.9400 - val_loss: 0.3851 - val_accuracy: 0.8924\n",
            "Epoch 23/30\n",
            "1719/1719 [==============================] - 6s 3ms/step - loss: 0.1516 - accuracy: 0.9418 - val_loss: 0.3662 - val_accuracy: 0.8964\n",
            "Epoch 24/30\n",
            "1719/1719 [==============================] - 6s 4ms/step - loss: 0.1472 - accuracy: 0.9436 - val_loss: 0.4169 - val_accuracy: 0.8970\n",
            "Epoch 25/30\n",
            "1719/1719 [==============================] - 5s 3ms/step - loss: 0.1468 - accuracy: 0.9450 - val_loss: 0.3949 - val_accuracy: 0.8882\n",
            "Epoch 26/30\n",
            "1719/1719 [==============================] - 6s 4ms/step - loss: 0.1413 - accuracy: 0.9461 - val_loss: 0.3791 - val_accuracy: 0.8980\n",
            "Epoch 27/30\n",
            "1719/1719 [==============================] - 6s 4ms/step - loss: 0.1337 - accuracy: 0.9487 - val_loss: 0.3978 - val_accuracy: 0.8956\n",
            "Epoch 28/30\n",
            "1719/1719 [==============================] - 6s 4ms/step - loss: 0.1357 - accuracy: 0.9478 - val_loss: 0.3979 - val_accuracy: 0.8964\n",
            "Epoch 29/30\n",
            "1719/1719 [==============================] - 6s 3ms/step - loss: 0.1313 - accuracy: 0.9497 - val_loss: 0.4046 - val_accuracy: 0.8918\n",
            "Epoch 30/30\n",
            "1719/1719 [==============================] - 6s 4ms/step - loss: 0.1274 - accuracy: 0.9506 - val_loss: 0.4048 - val_accuracy: 0.8992\n"
          ]
        }
      ]
    },
    {
      "cell_type": "markdown",
      "source": [
        " Looking at the predictions:"
      ],
      "metadata": {
        "id": "KSqN3Ra7XG6s"
      }
    },
    {
      "cell_type": "code",
      "source": [
        "new = test_images[:5]\n",
        "predictions = model.predict(new)\n",
        "print(predictions)"
      ],
      "metadata": {
        "colab": {
          "base_uri": "https://localhost:8080/"
        },
        "id": "vrJ0mdE3XGlD",
        "outputId": "ae33f602-1d76-4b0a-f20a-a84fcc643f5d"
      },
      "execution_count": 8,
      "outputs": [
        {
          "output_type": "stream",
          "name": "stdout",
          "text": [
            "1/1 [==============================] - 0s 82ms/step\n",
            "[[0. 0. 0. 0. 0. 0. 0. 0. 0. 1.]\n",
            " [0. 0. 1. 0. 0. 0. 0. 0. 0. 0.]\n",
            " [0. 1. 0. 0. 0. 0. 0. 0. 0. 0.]\n",
            " [0. 1. 0. 0. 0. 0. 0. 0. 0. 0.]\n",
            " [0. 0. 0. 0. 0. 0. 1. 0. 0. 0.]]\n"
          ]
        }
      ]
    },
    {
      "cell_type": "markdown",
      "source": [
        "Looking at the predicted classes:"
      ],
      "metadata": {
        "id": "epgJ77ISXUzE"
      }
    },
    {
      "cell_type": "code",
      "source": [
        "classes = np.argmax(predictions, axis=1)\n",
        "print(classes)"
      ],
      "metadata": {
        "colab": {
          "base_uri": "https://localhost:8080/"
        },
        "id": "NTlaoMXARS5R",
        "outputId": "3f1ebbfd-0e82-4363-fe72-7cee1d140ac4"
      },
      "execution_count": 9,
      "outputs": [
        {
          "output_type": "stream",
          "name": "stdout",
          "text": [
            "[9 2 1 1 6]\n"
          ]
        }
      ]
    },
    {
      "cell_type": "code",
      "source": [
        "# Visualizing some sample predictions\n",
        "num_samples = 10\n",
        "sample_images = test_images[:num_samples]\n",
        "sample_labels = test_labels[:num_samples]\n",
        "predictions = model.predict(sample_images)\n",
        "\n",
        "plt.figure(figsize=(10, 5))\n",
        "for i in range(num_samples):\n",
        "    plt.subplot(2, 5, i + 1)\n",
        "    plt.imshow(sample_images[i].reshape(28, 28), cmap='gray')\n",
        "    plt.title(f\"True: {sample_labels[i]}, Predicted: {tf.argmax(predictions[i])}\")\n",
        "    plt.axis('off')\n",
        "plt.tight_layout()\n",
        "plt.show()"
      ],
      "metadata": {
        "colab": {
          "base_uri": "https://localhost:8080/",
          "height": 491
        },
        "id": "151klsg3XZAd",
        "outputId": "452b4e4b-e786-49b9-fb49-f7b281cdd3bc"
      },
      "execution_count": 10,
      "outputs": [
        {
          "output_type": "stream",
          "name": "stdout",
          "text": [
            "1/1 [==============================] - 0s 21ms/step\n"
          ]
        },
        {
          "output_type": "display_data",
          "data": {
            "text/plain": [
              "<Figure size 1000x500 with 10 Axes>"
            ],
            "image/png": "[encoded data removed]"
          },
          "metadata": {}
        }
      ]
    },
    {
      "cell_type": "code",
      "source": [],
      "metadata": {
        "id": "p_l31gm7YY9X"
      },
      "execution_count": 10,
      "outputs": []
    }
  ]
}